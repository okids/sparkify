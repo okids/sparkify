{
 "cells": [
  {
   "cell_type": "markdown",
   "metadata": {},
   "source": [
    "# Sparkify Project Workspace\n",
    "This workspace contains a tiny subset (128MB) of the full dataset available (12GB). Feel free to use this workspace to build your project, or to explore a smaller subset with Spark before deploying your cluster on the cloud. Instructions for setting up your Spark cluster is included in the last lesson of the Extracurricular Spark Course content.\n",
    "\n",
    "You can follow the steps below to guide your data analysis and model building portion of this project."
   ]
  },
  {
   "cell_type": "code",
   "execution_count": null,
   "metadata": {},
   "outputs": [],
   "source": [
    "# import libraries\n",
    "from pyspark.sql import SparkSession\n",
    "from pyspark.sql import functions as F\n",
    "from pyspark.sql.types import IntegerType, StringType\n",
    "from pyspark.sql.functions import desc,asc,col,sum as Fsum,udf\n",
    "\n",
    "\n",
    "from pyspark.ml.feature import VectorAssembler,StringIndexer,StandardScaler\n",
    "from pyspark.ml.tuning import CrossValidator, ParamGridBuilder\n",
    "from pyspark.ml import Pipeline\n",
    "from pyspark.ml.classification import LogisticRegression,GBTClassifier,NaiveBayes\n",
    "from pyspark.ml.evaluation import MulticlassClassificationEvaluator\n",
    "\n",
    "\n",
    "import matplotlib.dates as mdates\n",
    "import datetime\n",
    "import httpagentparser\n",
    "\n",
    "\n",
    "import numpy as np\n",
    "import pandas as pd\n",
    "%matplotlib inline\n",
    "import matplotlib.pyplot as plt\n",
    "import seaborn as sns"
   ]
  },
  {
   "cell_type": "code",
   "execution_count": 5,
   "metadata": {},
   "outputs": [],
   "source": [
    "# create a Spark session\n",
    "\n",
    "# Create spark session\n",
    "spark = SparkSession \\\n",
    "    .builder \\\n",
    "    .appName(\"Sparkify\") \\\n",
    "    .getOrCreate()\n",
    "\n"
   ]
  },
  {
   "cell_type": "markdown",
   "metadata": {},
   "source": [
    "# Load and Clean Dataset\n",
    "In this workspace, the mini-dataset file is `mini_sparkify_event_data.json`. Load and clean the dataset, checking for invalid or missing data - for example, records without userids or sessionids. "
   ]
  },
  {
   "cell_type": "code",
   "execution_count": 6,
   "metadata": {},
   "outputs": [
    {
     "data": {
      "text/plain": [
       "Row(artist='Martha Tilston', auth='Logged In', firstName='Colin', gender='M', itemInSession=50, lastName='Freeman', length=277.89016, level='paid', location='Bakersfield, CA', method='PUT', page='NextSong', registration=1538173362000, sessionId=29, song='Rockpools', status=200, ts=1538352117000, userAgent='Mozilla/5.0 (Windows NT 6.1; WOW64; rv:31.0) Gecko/20100101 Firefox/31.0', userId='30')"
      ]
     },
     "execution_count": 6,
     "metadata": {},
     "output_type": "execute_result"
    }
   ],
   "source": [
    "# Read in full sparkify dataset\n",
    "event_data = \"mini_sparkify_event_data.json\"\n",
    "df = spark.read.json(event_data)\n",
    "df.head()"
   ]
  },
  {
   "cell_type": "code",
   "execution_count": 7,
   "metadata": {},
   "outputs": [
    {
     "data": {
      "text/plain": [
       "DataFrame[summary: string, artist: string, auth: string, firstName: string, gender: string, itemInSession: string, lastName: string, length: string, level: string, location: string, method: string, page: string, registration: string, sessionId: string, song: string, status: string, ts: string, userAgent: string, userId: string]"
      ]
     },
     "execution_count": 7,
     "metadata": {},
     "output_type": "execute_result"
    }
   ],
   "source": [
    "df.describe()"
   ]
  },
  {
   "cell_type": "code",
   "execution_count": 8,
   "metadata": {},
   "outputs": [
    {
     "name": "stdout",
     "output_type": "stream",
     "text": [
      "number of dataset with null artist :  58392\n",
      "number of dataset with null userid :  0\n",
      "number of dataset with null sessionid :  0\n",
      "number of dataset with empty userid :  8346\n",
      "number of dataset with empty sessionid :  0\n"
     ]
    }
   ],
   "source": [
    "print('number of dataset with null artist : ' ,df.where(col(\"artist\").isNull()).count())\n",
    "print('number of dataset with null userid : ' ,df.where(col(\"userId\").isNull()).count())\n",
    "print('number of dataset with null sessionid : ' ,df.where(col(\"sessionId\").isNull()).count())\n",
    "print('number of dataset with empty userid : ' ,df.where(col(\"userId\") == '').count())\n",
    "print('number of dataset with empty sessionid : ' ,df.where(col(\"sessionid\") == '').count())"
   ]
  },
  {
   "cell_type": "code",
   "execution_count": 9,
   "metadata": {},
   "outputs": [],
   "source": [
    "#filter empty string\n",
    "df_cleaned = df.filter(df.userId != '')"
   ]
  },
  {
   "cell_type": "code",
   "execution_count": 10,
   "metadata": {
    "scrolled": true
   },
   "outputs": [
    {
     "name": "stdout",
     "output_type": "stream",
     "text": [
      "all data :  278154\n",
      "non duplicate data :  278154\n",
      "No duplicate\n"
     ]
    }
   ],
   "source": [
    "#Check duplicates\n",
    "print(\"all data : \",df_cleaned.count())\n",
    "print(\"non duplicate data : \", df_cleaned.drop_duplicates().count())\n",
    "if df_cleaned.count()==df_cleaned.drop_duplicates().count():\n",
    "    print('No duplicate')\n",
    "else:\n",
    "    print('duplicate dataset')"
   ]
  },
  {
   "cell_type": "markdown",
   "metadata": {},
   "source": [
    "# Exploratory Data Analysis\n",
    "When you're working with the full dataset, perform EDA by loading a small subset of the data and doing basic manipulations within Spark. In this workspace, you are already provided a small subset of data you can explore.\n",
    "\n",
    "### Define Churn\n",
    "\n",
    "Once you've done some preliminary analysis, create a column `Churn` to use as the label for your model. I suggest using the `Cancellation Confirmation` events to define your churn, which happen for both paid and free users. As a bonus task, you can also look into the `Downgrade` events.\n",
    "\n",
    "### Explore Data\n",
    "Once you've defined churn, perform some exploratory data analysis to observe the behavior for users who stayed vs users who churned. You can start by exploring aggregates on these two groups of users, observing how much of a specific action they experienced per a certain time unit or number of songs played."
   ]
  },
  {
   "cell_type": "code",
   "execution_count": 11,
   "metadata": {},
   "outputs": [
    {
     "name": "stdout",
     "output_type": "stream",
     "text": [
      "+------+------+\n",
      "|gender| count|\n",
      "+------+------+\n",
      "|     F|154578|\n",
      "|     M|123576|\n",
      "+------+------+\n",
      "\n"
     ]
    }
   ],
   "source": [
    "#Distribution of gender\n",
    "df_cleaned.groupby('gender').count().show()"
   ]
  },
  {
   "cell_type": "code",
   "execution_count": 12,
   "metadata": {},
   "outputs": [
    {
     "name": "stdout",
     "output_type": "stream",
     "text": [
      "+-------+-----------------+\n",
      "|summary|           length|\n",
      "+-------+-----------------+\n",
      "|  count|           228108|\n",
      "|   mean|249.1171819778458|\n",
      "| stddev|99.23517921058361|\n",
      "|    min|          0.78322|\n",
      "|    max|       3024.66567|\n",
      "+-------+-----------------+\n",
      "\n"
     ]
    }
   ],
   "source": [
    "#Statistical result of song length\n",
    "df_cleaned.select('length').describe().show()"
   ]
  },
  {
   "cell_type": "code",
   "execution_count": 13,
   "metadata": {
    "scrolled": true
   },
   "outputs": [
    {
     "name": "stdout",
     "output_type": "stream",
     "text": [
      "+--------------------+------+\n",
      "|                page| count|\n",
      "+--------------------+------+\n",
      "|              Cancel|    52|\n",
      "|Cancellation Conf...|    52|\n",
      "|    Submit Downgrade|    63|\n",
      "|      Submit Upgrade|   159|\n",
      "|               Error|   252|\n",
      "|       Save Settings|   310|\n",
      "|               About|   495|\n",
      "|             Upgrade|   499|\n",
      "|                Help|  1454|\n",
      "|            Settings|  1514|\n",
      "|           Downgrade|  2055|\n",
      "|         Thumbs Down|  2546|\n",
      "|              Logout|  3226|\n",
      "|         Roll Advert|  3933|\n",
      "|          Add Friend|  4277|\n",
      "|     Add to Playlist|  6526|\n",
      "|                Home| 10082|\n",
      "|           Thumbs Up| 12551|\n",
      "|            NextSong|228108|\n",
      "+--------------------+------+\n",
      "\n"
     ]
    }
   ],
   "source": [
    "df_cleaned.groupby('page').count().sort('count').show()"
   ]
  },
  {
   "cell_type": "code",
   "execution_count": 14,
   "metadata": {},
   "outputs": [
    {
     "name": "stdout",
     "output_type": "stream",
     "text": [
      "+------+------+\n",
      "|status| count|\n",
      "+------+------+\n",
      "|   404|   252|\n",
      "|   307| 23184|\n",
      "|   200|254718|\n",
      "+------+------+\n",
      "\n"
     ]
    }
   ],
   "source": [
    "df_cleaned.groupby('status').count().sort('count').show()"
   ]
  },
  {
   "cell_type": "code",
   "execution_count": 15,
   "metadata": {},
   "outputs": [],
   "source": [
    "df_cleaned.createOrReplaceTempView(\"event\")"
   ]
  },
  {
   "cell_type": "code",
   "execution_count": 16,
   "metadata": {},
   "outputs": [
    {
     "name": "stdout",
     "output_type": "stream",
     "text": [
      "+------+----------------------+\n",
      "|gender|count(DISTINCT userId)|\n",
      "+------+----------------------+\n",
      "|     F|                    20|\n",
      "|     M|                    32|\n",
      "+------+----------------------+\n",
      "\n"
     ]
    }
   ],
   "source": [
    "spark.sql(\"\"\"SELECT gender, COUNT(DISTINCT userId) \n",
    "             FROM event \n",
    "             WHERE page = 'Cancellation Confirmation' GROUP BY 1 \n",
    "          \"\"\").show(200)"
   ]
  },
  {
   "cell_type": "markdown",
   "metadata": {},
   "source": [
    "Total 52 users is churning"
   ]
  },
  {
   "cell_type": "code",
   "execution_count": 17,
   "metadata": {
    "scrolled": false
   },
   "outputs": [
    {
     "name": "stdout",
     "output_type": "stream",
     "text": [
      "+--------------------+--------+\n",
      "|                page|count(1)|\n",
      "+--------------------+--------+\n",
      "|              Cancel|       1|\n",
      "|         Thumbs Down|       1|\n",
      "|                Home|      19|\n",
      "|           Downgrade|       3|\n",
      "|              Logout|       7|\n",
      "|       Save Settings|       1|\n",
      "|Cancellation Conf...|       1|\n",
      "|               About|       1|\n",
      "|            Settings|       5|\n",
      "|     Add to Playlist|      14|\n",
      "|          Add Friend|      10|\n",
      "|            NextSong|     429|\n",
      "|           Thumbs Up|      20|\n",
      "|                Help|       1|\n",
      "+--------------------+--------+\n",
      "\n"
     ]
    }
   ],
   "source": [
    "spark.sql(\"\"\"SELECT page, COUNT(*) FROM event WHERE userId in (\n",
    "             SELECT userId \n",
    "             FROM event \n",
    "             WHERE page = 'Cancellation Confirmation' LIMIT 1) GROUP BY 1 \n",
    "          \"\"\").show(200)"
   ]
  },
  {
   "cell_type": "markdown",
   "metadata": {},
   "source": [
    "Example of list of page that churn user visited. If you see on the 'NextSong' page, this user played 429 songs."
   ]
  },
  {
   "cell_type": "code",
   "execution_count": 18,
   "metadata": {},
   "outputs": [],
   "source": [
    "#Create new view with churn columns\n",
    "event_with_churn = spark.sql(\"\"\"\n",
    "SELECT e.*, COALESCE(churn,0) AS churn\n",
    "FROM event e\n",
    "LEFT JOIN(\n",
    "        SELECT userid,1 AS churn\n",
    "         FROM event \n",
    "         WHERE page = 'Cancellation Confirmation'\n",
    "         GROUP BY 1\n",
    "         ) USING (userid)\n",
    "          \"\"\")\n",
    "event_with_churn.createOrReplaceTempView(\"event_with_churn\")"
   ]
  },
  {
   "cell_type": "code",
   "execution_count": 19,
   "metadata": {
    "scrolled": true
   },
   "outputs": [
    {
     "name": "stdout",
     "output_type": "stream",
     "text": [
      "+-----+----------------------+\n",
      "|churn|count(DISTINCT userId)|\n",
      "+-----+----------------------+\n",
      "|    1|                    52|\n",
      "|    0|                   173|\n",
      "+-----+----------------------+\n",
      "\n"
     ]
    }
   ],
   "source": [
    "spark.sql(\"\"\" SELECT churn, COUNT(DISTINCT userId) FROM\n",
    "event_with_churn\n",
    "GROUP BY 1\n",
    "\"\"\").show()"
   ]
  },
  {
   "cell_type": "code",
   "execution_count": 20,
   "metadata": {},
   "outputs": [
    {
     "name": "stdout",
     "output_type": "stream",
     "text": [
      "+-----+------------------+-----------------------+------------------+----------------------+------------------+-----------------+\n",
      "|churn|   avg_song_played|avg_song_per_day_played|median_song_played|avg_unique_song_played|      unique_ratio|         user_age|\n",
      "+-----+------------------+-----------------------+------------------+----------------------+------------------+-----------------+\n",
      "|    1| 699.8846153846154|     54.688818102889144|               429|     638.3653846153846|1.0963699352312095|3.365375499509984|\n",
      "|    0|1108.1734104046243|      58.45847338629526|               747|     975.7687861271677|1.1356926212027865|5.086918406793906|\n",
      "+-----+------------------+-----------------------+------------------+----------------------+------------------+-----------------+\n",
      "\n"
     ]
    }
   ],
   "source": [
    "spark.sql(\"\"\" \n",
    "SELECT churn, \n",
    "       AVG(cnt_song) avg_song_played,\n",
    "       AVG(cnt_song/cnt_day_played) avg_song_per_day_played,\n",
    "       percentile_approx(cnt_song, 0.5) median_song_played,\n",
    "       AVG(cnt_unique_song)  avg_unique_song_played,\n",
    "       AVG(cnt_song)/AVG(cnt_unique_song) AS unique_ratio,\n",
    "       AVG(ts-registration)/(1000*3600*365*24) AS user_age\n",
    " FROM\n",
    "(SELECT userId, \n",
    "        MAX(churn) AS churn, \n",
    "        SUM(CASE WHEN page = 'NextSong' THEN 1 ELSE 0 END) cnt_song,\n",
    "        COUNT(DISTINCT CASE WHEN page = 'NextSong' THEN song END) cnt_unique_song,\n",
    "        MAX(ts) ts,\n",
    "        COUNT(DISTINCT CASE WHEN page = 'NextSong' THEN from_unixtime(ts/1000, 'yyyy-MM-dd') ELSE 0 END) cnt_day_played,\n",
    "        MAX(registration) registration\n",
    "   FROM event_with_churn\n",
    " GROUP BY 1) GROUP BY 1 \n",
    "\"\"\").show()"
   ]
  },
  {
   "cell_type": "markdown",
   "metadata": {},
   "source": [
    "On average, churn user played less song compared to active user. They also have less in user_age (3.3 years compare to 5 years). "
   ]
  },
  {
   "cell_type": "code",
   "execution_count": 21,
   "metadata": {},
   "outputs": [
    {
     "name": "stdout",
     "output_type": "stream",
     "text": [
      "+-----+--------+\n",
      "|level|count(1)|\n",
      "+-----+--------+\n",
      "| free|   55721|\n",
      "| paid|  222433|\n",
      "+-----+--------+\n",
      "\n"
     ]
    }
   ],
   "source": [
    "spark.sql(\"SELECT level, COUNT(*) FROM event_with_churn GROUP BY 1\").show()"
   ]
  },
  {
   "cell_type": "code",
   "execution_count": 22,
   "metadata": {},
   "outputs": [],
   "source": [
    "df_song_perday = spark.sql(\"\"\" \n",
    "SELECT churn, \n",
    "       cnt_song/cnt_day_played num_song_perday\n",
    " FROM\n",
    "(SELECT userId, \n",
    "        MAX(churn) AS churn, \n",
    "        SUM(CASE WHEN page = 'NextSong' THEN 1 ELSE 0 END) cnt_song,\n",
    "        MAX(ts) ts,\n",
    "        COUNT(DISTINCT CASE WHEN page = 'NextSong' THEN from_unixtime(ts/1000, 'yyyy-MM-dd') ELSE 0 END) cnt_day_played,\n",
    "        MAX(registration) registration\n",
    "   FROM event_with_churn\n",
    " GROUP BY 1) \n",
    "\"\"\").toPandas()"
   ]
  },
  {
   "cell_type": "code",
   "execution_count": 21,
   "metadata": {
    "scrolled": true
   },
   "outputs": [
    {
     "data": {
      "text/plain": [
       "<matplotlib.axes._subplots.AxesSubplot at 0x7fcec4c28e48>"
      ]
     },
     "execution_count": 21,
     "metadata": {},
     "output_type": "execute_result"
    },
    {
     "data": {
      "image/png": "[encoded data removed]",
      "text/plain": [
       "<matplotlib.figure.Figure at 0x7fcec4c276d8>"
      ]
     },
     "metadata": {
      "needs_background": "light"
     },
     "output_type": "display_data"
    }
   ],
   "source": [
    "df_song_perday[df_song_perday.churn == 1].num_song_perday.hist()"
   ]
  },
  {
   "cell_type": "code",
   "execution_count": 22,
   "metadata": {
    "scrolled": true
   },
   "outputs": [
    {
     "data": {
      "text/plain": [
       "<matplotlib.axes._subplots.AxesSubplot at 0x7fcec4a8df60>"
      ]
     },
     "execution_count": 22,
     "metadata": {},
     "output_type": "execute_result"
    },
    {
     "data": {
      "image/png": "[encoded data removed]",
      "text/plain": [
       "<matplotlib.figure.Figure at 0x7fcec4c27dd8>"
      ]
     },
     "metadata": {
      "needs_background": "light"
     },
     "output_type": "display_data"
    }
   ],
   "source": [
    "df_song_perday[df_song_perday.churn == 0].num_song_perday.hist()"
   ]
  },
  {
   "cell_type": "markdown",
   "metadata": {},
   "source": [
    "Churn user has right skewed distribution in terms of song per day, which means they play less song per day. On the other hand, active users is more similar to normal distribution."
   ]
  },
  {
   "cell_type": "markdown",
   "metadata": {},
   "source": [
    "# Feature Engineering\n",
    "Once you've familiarized yourself with the data, build out the features you find promising to train your model on. To work with the full dataset, you can follow the following steps.\n",
    "- Write a script to extract the necessary features from the smaller subset of data\n",
    "- Ensure that your script is scalable, using the best practices discussed in Lesson 3\n",
    "- Try your script on the full data set, debugging your script if necessary\n",
    "\n",
    "If you are working in the classroom workspace, you can just extract features based on the small subset of data contained here. Be sure to transfer over this work to the larger dataset when you work on your Spark cluster."
   ]
  },
  {
   "cell_type": "code",
   "execution_count": 23,
   "metadata": {},
   "outputs": [],
   "source": [
    "#Create dummy column\n",
    "def create_dummy_columns(col_name,df):\n",
    "    '''\n",
    "    Input :\n",
    "    - col_name = name of the column that is used to generate dummy variables\n",
    "    - df = spark df\n",
    "    Output :\n",
    "    - ndf = new spark df with all dummy variables from selected column\n",
    "    '''\n",
    "    elements = df.select(col_name).distinct().rdd.flatMap(lambda x: x).collect()\n",
    "    exprs = [F.when(F.col(col_name) == element, 1).otherwise(0).alias(element)\n",
    "         for element in elements]\n",
    "    df_with_dummy = df.select(\"*\", *exprs)\n",
    "    \n",
    "    #drop original column\n",
    "    ndf = df_with_dummy.drop(col_name)\n",
    "    return ndf"
   ]
  },
  {
   "cell_type": "code",
   "execution_count": 24,
   "metadata": {},
   "outputs": [],
   "source": [
    "df_with_dummy_pages = create_dummy_columns('page',event_with_churn)\n"
   ]
  },
  {
   "cell_type": "code",
   "execution_count": 25,
   "metadata": {},
   "outputs": [
    {
     "data": {
      "text/plain": [
       "<function __main__.<lambda>(x)>"
      ]
     },
     "execution_count": 25,
     "metadata": {},
     "output_type": "execute_result"
    }
   ],
   "source": [
    "#browser\n",
    "spark.udf.register(\"get_browser\", lambda x: httpagentparser.detect(x)['browser']['name'])\n",
    "\n",
    "#Platform\n",
    "spark.udf.register(\"get_platform\", lambda x: httpagentparser.detect(x)['platform']['name'])\n",
    "\n"
   ]
  },
  {
   "cell_type": "code",
   "execution_count": 26,
   "metadata": {},
   "outputs": [
    {
     "name": "stdout",
     "output_type": "stream",
     "text": [
      "+----------------------+-----------------------+\n",
      "|get_browser(userAgent)|get_platform(userAgent)|\n",
      "+----------------------+-----------------------+\n",
      "|                Chrome|                  Linux|\n",
      "|               Firefox|                  Linux|\n",
      "|                Safari|                    iOS|\n",
      "|                Chrome|                 Mac OS|\n",
      "|                Chrome|                Windows|\n",
      "|                Safari|                 Mac OS|\n",
      "|               Firefox|                 Mac OS|\n",
      "|  Microsoft Interne...|                Windows|\n",
      "|               Firefox|                Windows|\n",
      "+----------------------+-----------------------+\n",
      "\n"
     ]
    }
   ],
   "source": [
    "#Check unique combination\n",
    "spark.sql(\"SELECT get_browser(userAgent), get_platform(userAgent) FROM event_with_churn GROUP BY 1,2\").show()"
   ]
  },
  {
   "cell_type": "code",
   "execution_count": 27,
   "metadata": {},
   "outputs": [],
   "source": [
    "#Crafting session level feature\n",
    "session_feature = spark.sql(\"\"\"\n",
    "SELECT userId, \n",
    "       AVG(hour_per_session)             AS avg_hour_per_session,\n",
    "       AVG(unique_song_per_session)      AS avg_unique_song_per_session,\n",
    "       AVG(unique_artist_per_session)    AS avg_unique_artist_per_session,\n",
    "       AVG(cnt_song_played_persession)   AS avg_song_played_persession\n",
    "FROM (       \n",
    "SELECT userId,\n",
    "       sessionId,\n",
    "       (MAX(ts) -MIN(ts))/(1000*3600) AS hour_per_session,\n",
    "       COUNT(DISTINCT song) unique_song_per_session,\n",
    "       COUNT(DISTINCT artist) unique_artist_per_session,\n",
    "       SUM(CASE WHEN page = 'NextSong' THEN 1 ELSE 0 END) AS cnt_song_played_persession\n",
    "FROM event_with_churn \n",
    "GROUP BY 1,2)\n",
    "GROUP BY 1\n",
    "\"\"\")"
   ]
  },
  {
   "cell_type": "code",
   "execution_count": 28,
   "metadata": {},
   "outputs": [
    {
     "name": "stdout",
     "output_type": "stream",
     "text": [
      "+------+--------------------+---------------------------+-----------------------------+--------------------------+\n",
      "|userId|avg_hour_per_session|avg_unique_song_per_session|avg_unique_artist_per_session|avg_song_played_persession|\n",
      "+------+--------------------+---------------------------+-----------------------------+--------------------------+\n",
      "|100010|   2.574722222222223|         39.142857142857146|            38.57142857142857|        39.285714285714285|\n",
      "|200002|                4.44|          64.16666666666667|           62.166666666666664|                      64.5|\n",
      "|   125| 0.49277777777777776|                        8.0|                          8.0|                       8.0|\n",
      "|    51|  14.539277777777775|                      204.1|                        188.2|                     211.1|\n",
      "|   124|   9.649904214559387|         137.24137931034483|            127.6896551724138|         140.6551724137931|\n",
      "|     7|  1.4606746031746032|         21.428571428571427|                         21.0|        21.428571428571427|\n",
      "|    54|   5.371493993993996|          75.62162162162163|            72.29729729729729|         76.78378378378379|\n",
      "|    15|   8.804722222222223|         125.93333333333334|           119.53333333333333|                     127.6|\n",
      "|   155|    9.14287037037037|         133.83333333333334|           126.83333333333333|        136.66666666666666|\n",
      "|100014|  3.0802314814814817|         42.666666666666664|                         42.0|        42.833333333333336|\n",
      "|   132|   8.315850694444444|                      118.0|                       110.75|                     120.5|\n",
      "|   154|  1.8447222222222222|         27.666666666666668|                         27.0|                      28.0|\n",
      "|   101|  13.626333333333331|                      174.0|                        159.0|                     179.7|\n",
      "|    11|  2.6896180555555556|                    40.0625|                         39.0|                   40.4375|\n",
      "|300017|  3.8887345679012344|          56.87301587301587|            55.23809523809524|         57.65079365079365|\n",
      "|   138|   9.403777777777778|         132.13333333333333|           122.06666666666666|                     138.0|\n",
      "|    29|   6.095947712418298|          87.11764705882354|            81.79411764705883|         89.05882352941177|\n",
      "|    69|   8.778086419753087|         121.88888888888889|           115.66666666666667|                     125.0|\n",
      "|100021|   3.587111111111111|                       45.8|                         43.6|                      46.0|\n",
      "|    42|   5.492712765957448|          74.93617021276596|            72.29787234042553|         76.02127659574468|\n",
      "+------+--------------------+---------------------------+-----------------------------+--------------------------+\n",
      "only showing top 20 rows\n",
      "\n"
     ]
    }
   ],
   "source": [
    "session_feature.show()"
   ]
  },
  {
   "cell_type": "code",
   "execution_count": 29,
   "metadata": {},
   "outputs": [],
   "source": [
    "session_feature.createOrReplaceTempView('session_feature')"
   ]
  },
  {
   "cell_type": "code",
   "execution_count": 38,
   "metadata": {},
   "outputs": [],
   "source": [
    "#Crafting the feature\n",
    "full_feature = spark.sql(\"\"\"\n",
    "SELECT userId,\n",
    "       churn,  \n",
    "       --Gender\n",
    "       MAX(CASE WHEN gender = 'M' THEN 1 ELSE 0 END)  AS gender_male,\n",
    "       MAX(CASE WHEN gender = 'F' THEN 1 ELSE 0 END) AS gender_female,\n",
    "       \n",
    "       -- browser\n",
    "       MAX(CASE WHEN get_browser(userAgent) = 'Chrome' THEN 1 ELSE 0 END)  AS chrome_user,\n",
    "       MAX(CASE WHEN get_browser(userAgent) = 'Firefox' THEN 1 ELSE 0 END)  AS firefox_user,\n",
    "       MAX(CASE WHEN get_browser(userAgent) = 'Safari' THEN 1 ELSE 0 END)  AS safari_user,\n",
    "       MAX(CASE WHEN get_browser(userAgent) LIKE '%Microsoft%' THEN 1 ELSE 0 END)  AS ie_user,\n",
    "       \n",
    "       --platform\n",
    "       MAX(CASE WHEN get_platform(userAgent) = 'Linux' THEN 1 ELSE 0 END)  AS linux_user,\n",
    "       MAX(CASE WHEN get_platform(userAgent) = 'iOS' THEN 1 ELSE 0 END)  AS ios_user,\n",
    "       MAX(CASE WHEN get_platform(userAgent) = 'Mac OS' THEN 1 ELSE 0 END)  AS mac_user,\n",
    "       MAX(CASE WHEN get_platform(userAgent) = 'Windows' THEN 1 ELSE 0 END)  AS windows_user,\n",
    "       \n",
    "       \n",
    "       \n",
    "       \n",
    "       -- Paid and free session\n",
    "       COUNT(DISTINCT CASE WHEN level = 'paid' THEN sessionId ELSE 0 END) AS cnt_paid_session,\n",
    "       COUNT(DISTINCT CASE WHEN level = 'free' THEN sessionId ELSE 0 END) AS cnt_free_session,\n",
    "       \n",
    "       -- Artist and song behavior\n",
    "       COUNT(DISTINCT artist) AS cnt_unique_artist,\n",
    "       COUNT(DISTINCT song) AS cnt_unique_song,\n",
    "       AVG(length) AS average_song_length,\n",
    "       SUM(CASE WHEN page = 'NextSong' THEN 1 ELSE 0 END) AS cnt_song_played,\n",
    "    \n",
    "       -- Other behavior\n",
    "       COUNT(DISTINCT CASE WHEN page = 'NextSong' THEN from_unixtime(ts/1000, 'yyyy-MM-dd') ELSE 0 END) AS cnt_day_played,\n",
    "       COUNT(DISTINCT sessionId) AS cnt_session,\n",
    "       SUM(CASE WHEN page = 'Add Friend' THEN 1 ELSE 0 END) AS cnt_add_friend,\n",
    "       SUM(CASE WHEN page = 'Thumbs Down' THEN 1 ELSE 0 END) AS cnt_thumb_down,\n",
    "       SUM(CASE WHEN page = 'Thumbs Up' THEN 1 ELSE 0 END) AS cnt_thumbs_up,\n",
    "       SUM(CASE WHEN page = 'Home' THEN 1 ELSE 0 END) AS cnt_home,\n",
    "       SUM(CASE WHEN page = 'Logout' THEN 1 ELSE 0 END) AS cnt_logout,\n",
    "       SUM(CASE WHEN page = 'Help' THEN 1 ELSE 0 END) AS cnt_help,\n",
    "       SUM(CASE WHEN page = 'Settings' THEN 1 ELSE 0 END) AS cnt_settings,\n",
    "       SUM(CASE WHEN page = 'Submit Downgrade' THEN 1 ELSE 0 END) AS cnt_submit_downgrade,\n",
    "       SUM(CASE WHEN page = 'Submit Upgrade' THEN 1 ELSE 0 END) AS cnt_submit_upgrade,\n",
    "       SUM(CASE WHEN page = 'Downgrade' THEN 1 ELSE 0 END) AS cnt_initiate_downgrade,\n",
    "       SUM(CASE WHEN page = 'Upgrade' THEN 1 ELSE 0 END) AS cnt_initiate_upgrade,\n",
    "       SUM(CASE WHEN page = 'Error' THEN 1 ELSE 0 END) AS cnt_error,\n",
    "       MAX(ts-registration)/(1000*3600*365*24) AS user_age,\n",
    "       \n",
    "       --Combining session feature\n",
    "       MAX(sf.avg_hour_per_session)  AS avg_hour_per_session,\n",
    "       MAX(sf.avg_unique_song_per_session) AS avg_unique_song_per_session,\n",
    "       MAX(sf.avg_unique_artist_per_session) AS avg_unique_artist_per_session,\n",
    "       MAX(sf.avg_song_played_persession) AS avg_song_played_persession\n",
    "    \n",
    "FROM event_with_churn \n",
    "LEFT JOIN session_feature sf USING (userId)\n",
    "GROUP BY 1,2     \n",
    "\"\"\")"
   ]
  },
  {
   "cell_type": "code",
   "execution_count": 39,
   "metadata": {},
   "outputs": [
    {
     "data": {
      "text/plain": [
       "DataFrame[userId: string, churn: int, gender_male: int, gender_female: int, chrome_user: int, firefox_user: int, safari_user: int, ie_user: int, linux_user: int, ios_user: int, mac_user: int, windows_user: int, cnt_paid_session: bigint, cnt_free_session: bigint, cnt_unique_artist: bigint, cnt_unique_song: bigint, average_song_length: double, cnt_song_played: bigint, cnt_day_played: bigint, cnt_session: bigint, cnt_add_friend: bigint, cnt_thumb_down: bigint, cnt_thumbs_up: bigint, cnt_home: bigint, cnt_logout: bigint, cnt_help: bigint, cnt_settings: bigint, cnt_submit_downgrade: bigint, cnt_submit_upgrade: bigint, cnt_initiate_downgrade: bigint, cnt_initiate_upgrade: bigint, cnt_error: bigint, user_age: double, avg_hour_per_session: double, avg_unique_song_per_session: double, avg_unique_artist_per_session: double, avg_song_played_persession: double]"
      ]
     },
     "execution_count": 39,
     "metadata": {},
     "output_type": "execute_result"
    }
   ],
   "source": [
    "#fairly slow\n",
    "full_feature.persist()"
   ]
  },
  {
   "cell_type": "markdown",
   "metadata": {},
   "source": [
    "# Modeling\n",
    "Split the full dataset into train, test, and validation sets. Test out several of the machine learning methods you learned. Evaluate the accuracy of the various models, tuning parameters as necessary. Determine your winning model based on test accuracy and report results on the validation set. Since the churned users are a fairly small subset, I suggest using F1 score as the metric to optimize."
   ]
  },
  {
   "cell_type": "code",
   "execution_count": 68,
   "metadata": {},
   "outputs": [],
   "source": [
    "features_col = ['gender_male','gender_female','chrome_user','firefox_user','safari_user',\n",
    "               'ie_user','linux_user','ios_user','mac_user','windows_user','cnt_paid_session',\n",
    "               'cnt_free_session','cnt_unique_artist','cnt_unique_song','average_song_length',\n",
    "               'cnt_song_played','cnt_day_played','cnt_session','cnt_add_friend','cnt_thumb_down',\n",
    "               'cnt_thumbs_up','cnt_home','cnt_logout','cnt_help','cnt_settings','cnt_submit_downgrade',\n",
    "               'cnt_submit_upgrade','cnt_initiate_downgrade','cnt_initiate_upgrade','cnt_error',\n",
    "               'user_age','avg_hour_per_session','avg_unique_song_per_session','avg_unique_artist_per_session'\n",
    "                ]\n",
    "assembler = VectorAssembler(inputCols=features_col, outputCol=\"feature_vec\")\n",
    "\n",
    "df = assembler.transform(full_feature)\n",
    "train, test = df.randomSplit([0.8, 0.2], seed=42)\n",
    "\n",
    "indexer = StringIndexer(inputCol=\"churn\", outputCol=\"label\")\n",
    "scaler = StandardScaler(inputCol=\"feature_vec\", outputCol=\"scaled_features\")\n",
    "\n"
   ]
  },
  {
   "cell_type": "markdown",
   "metadata": {},
   "source": [
    "Logistic Regression as Benchmark"
   ]
  },
  {
   "cell_type": "code",
   "execution_count": 75,
   "metadata": {},
   "outputs": [],
   "source": [
    "\n",
    "lr =  LogisticRegression(maxIter=10, regParam=0.0, elasticNetParam=0, featuresCol='scaled_features')\n",
    "pipeline_logreg = Pipeline(stages=[indexer, scaler, lr])\n",
    "paramGrid = ParamGridBuilder().addGrid(lr.regParam,[0.0, 0.1, 1]).build()\n",
    "\n",
    "crossval_lr = CrossValidator(estimator=pipeline_logreg,\n",
    "                          estimatorParamMaps=paramGrid,\n",
    "                          evaluator=MulticlassClassificationEvaluator(metricName='f1'),\n",
    "                          numFolds=3)"
   ]
  },
  {
   "cell_type": "code",
   "execution_count": 76,
   "metadata": {},
   "outputs": [],
   "source": [
    "cvModel_lr = crossval_lr.fit(train)\n",
    "print('F1 score for LogReg model in train :',  cvModel_lr.avgMetrics)\n",
    "results_lr = cvModel_lr.transform(test)"
   ]
  },
  {
   "cell_type": "code",
   "execution_count": 77,
   "metadata": {},
   "outputs": [
    {
     "name": "stdout",
     "output_type": "stream",
     "text": [
      "Accuracy for Logistic Regression Model is:  0.8222222222222222\n",
      "F1 score for Logistic Regression model is :  0.7720797720797721\n"
     ]
    }
   ],
   "source": [
    "print(\"Accuracy for Logistic Regression Model in test: \", results_lr.filter(results_lr.label == results_lr.prediction).count()/ results_lr.count())\n",
    "evaluator = MulticlassClassificationEvaluator(metricName='f1')\n",
    "score = evaluator.evaluate(results_lr)\n",
    "print(\"F1 score for Logistic Regression model in test : \", score)"
   ]
  },
  {
   "cell_type": "code",
   "execution_count": 91,
   "metadata": {
    "scrolled": true
   },
   "outputs": [
    {
     "data": {
      "image/png": "[encoded data removed]",
      "text/plain": [
       "<matplotlib.figure.Figure at 0x7ff2aa2fe828>"
      ]
     },
     "metadata": {
      "needs_background": "light"
     },
     "output_type": "display_data"
    }
   ],
   "source": [
    "feature_importances = cvModel_lr.bestModel.stages[-1].coefficients.values.tolist()\n",
    "\n",
    "def plot_feature(feature_importances, features_col):\n",
    "    feature_importance_df = pd.DataFrame({'coefficients': feature_importances, 'columns': features_col})\n",
    "    graph = sns.barplot(x='coefficients', y='columns', data=feature_importance_df.sort_values('coefficients',ascending=False))\n",
    "    graph.set_title('Feature coefficient plot')\n",
    "    \n",
    "    \n",
    "plot_feature(feature_importances,features_col)"
   ]
  },
  {
   "cell_type": "markdown",
   "metadata": {},
   "source": [
    "Gradient Boosting Model"
   ]
  },
  {
   "cell_type": "code",
   "execution_count": 82,
   "metadata": {},
   "outputs": [],
   "source": [
    "gbt = GBTClassifier(labelCol=\"label\", featuresCol=\"scaled_features\", maxIter=10)\n",
    "pipeline_gbt = Pipeline(stages=[indexer, scaler, gbt])\n",
    "paramGrid = ParamGridBuilder().build()\n",
    "\n",
    "crossval_gbt = CrossValidator(estimator=pipeline_gbt,\n",
    "                          estimatorParamMaps=paramGrid,\n",
    "                          evaluator=MulticlassClassificationEvaluator(metricName='f1'),\n",
    "                          numFolds=3)"
   ]
  },
  {
   "cell_type": "code",
   "execution_count": 86,
   "metadata": {},
   "outputs": [],
   "source": [
    "cvModel_gbt = crossval_gbt.fit(train)\n",
    "print('F1 score for GBT model in train :',  cvModel_gbt.avgMetrics)\n",
    "results_gbt = cvModel_gbt.transform(test)"
   ]
  },
  {
   "cell_type": "code",
   "execution_count": 88,
   "metadata": {},
   "outputs": [
    {
     "name": "stdout",
     "output_type": "stream",
     "text": [
      "F1 score for GBT model in train : [0.7073004669308084]\n"
     ]
    }
   ],
   "source": [
    "print('F1 score for GBT model in train :',  cvModel_gbt.avgMetrics)\n"
   ]
  },
  {
   "cell_type": "code",
   "execution_count": 87,
   "metadata": {},
   "outputs": [
    {
     "name": "stdout",
     "output_type": "stream",
     "text": [
      "Accuracy for GBT Model is:  0.7111111111111111\n",
      "F1 score for GBT model is :  0.7055432007248168\n"
     ]
    }
   ],
   "source": [
    "print(\"Accuracy for GBT Model in test: \", results_gbt.filter(results_gbt.label == results_gbt.prediction).count()/ results_gbt.count())\n",
    "evaluator = MulticlassClassificationEvaluator(metricName='f1')\n",
    "score = evaluator.evaluate(results_gbt)\n",
    "print(\"F1 score for GBT model in test : \", score)"
   ]
  },
  {
   "cell_type": "code",
   "execution_count": 112,
   "metadata": {},
   "outputs": [
    {
     "data": {
      "image/png": "[encoded data removed]",
      "text/plain": [
       "<matplotlib.figure.Figure at 0x7ff2998c8978>"
      ]
     },
     "metadata": {
      "needs_background": "light"
     },
     "output_type": "display_data"
    }
   ],
   "source": [
    "feature_importances = cvModel_gbt.bestModel.stages[2].featureImportances.values.tolist()\n",
    "gbt_col = [features_col[x] for x in cvModel_gbt.bestModel.stages[2].featureImportances.indices.tolist()]\n",
    "\n",
    "plot_feature(feature_importances,gbt_col)"
   ]
  },
  {
   "cell_type": "markdown",
   "metadata": {},
   "source": [
    "Naive Bayes"
   ]
  },
  {
   "cell_type": "code",
   "execution_count": 115,
   "metadata": {},
   "outputs": [],
   "source": [
    "\n",
    "nb = NaiveBayes(smoothing=1.0, modelType=\"multinomial\",featuresCol='scaled_features')\n",
    "pipeline = Pipeline(stages=[indexer, scaler, nb])\n",
    "paramGrid = ParamGridBuilder().build()\n",
    "\n",
    "crossval_nb = CrossValidator(estimator=pipeline,\n",
    "                          estimatorParamMaps=paramGrid,\n",
    "                          evaluator=MulticlassClassificationEvaluator(metricName='f1'),\n",
    "                          numFolds=3)\n"
   ]
  },
  {
   "cell_type": "code",
   "execution_count": 117,
   "metadata": {},
   "outputs": [
    {
     "name": "stdout",
     "output_type": "stream",
     "text": [
      "F1 score for Naive bayes model in train : [0.6300246899553191]\n"
     ]
    }
   ],
   "source": [
    "cvModel_nb = crossval_nb.fit(train)\n",
    "print('F1 score for Naive bayes model in train :',  cvModel_nb.avgMetrics)\n",
    "results_nb = cvModel_nb.transform(test)"
   ]
  },
  {
   "cell_type": "code",
   "execution_count": 118,
   "metadata": {},
   "outputs": [
    {
     "name": "stdout",
     "output_type": "stream",
     "text": [
      "Accuracy for NB Model in test:  0.5777777777777777\n",
      "F1 score for NB model in test :  0.6121474781734816\n"
     ]
    }
   ],
   "source": [
    "print(\"Accuracy for NB Model in test: \", results_nb.filter(results_nb.label == results_nb.prediction).count()/ results_nb.count())\n",
    "evaluator = MulticlassClassificationEvaluator(metricName='f1')\n",
    "score = evaluator.evaluate(results_nb)\n",
    "print(\"F1 score for NB model in test : \", score)"
   ]
  },
  {
   "cell_type": "markdown",
   "metadata": {},
   "source": [
    "# Final Steps\n",
    "Clean up your code, adding comments and renaming variables to make the code easier to read and maintain. Refer to the Spark Project Overview page and Data Scientist Capstone Project Rubric to make sure you are including all components of the capstone project and meet all expectations. Remember, this includes thorough documentation in a README file in a Github repository, as well as a web app or blog post."
   ]
  },
  {
   "cell_type": "code",
   "execution_count": null,
   "metadata": {},
   "outputs": [],
   "source": []
  }
 ],
 "metadata": {
  "kernelspec": {
   "display_name": "Python 3",
   "language": "python",
   "name": "python3"
  },
  "language_info": {
   "codemirror_mode": {
    "name": "ipython",
    "version": 3
   },
   "file_extension": ".py",
   "mimetype": "text/x-python",
   "name": "python",
   "nbconvert_exporter": "python",
   "pygments_lexer": "ipython3",
   "version": "3.6.3"
  }
 },
 "nbformat": 4,
 "nbformat_minor": 2
}
